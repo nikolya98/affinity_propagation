{
  "nbformat": 4,
  "nbformat_minor": 0,
  "metadata": {
    "kernelspec": {
      "name": "python3",
      "display_name": "Python 3"
    },
    "language_info": {
      "codemirror_mode": {
        "name": "ipython",
        "version": 3
      },
      "file_extension": ".py",
      "mimetype": "text/x-python",
      "name": "python",
      "nbconvert_exporter": "python",
      "pygments_lexer": "ipython3",
      "version": "3.7.3"
    },
    "colab": {
      "name": "main.ipynb",
      "provenance": [],
      "collapsed_sections": []
    },
    "accelerator": "GPU"
  },
  "cells": [
    {
      "cell_type": "code",
      "metadata": {
        "id": "XDBUsEqnqbuB",
        "colab_type": "code",
        "colab": {}
      },
      "source": [
        "import numpy as np\n",
        "import matplotlib.pyplot as plt\n",
        "from random import shuffle\n",
        "from collections import defaultdict"
      ],
      "execution_count": 0,
      "outputs": []
    },
    {
      "cell_type": "code",
      "metadata": {
        "id": "4yG0SkDxqbuH",
        "colab_type": "code",
        "colab": {}
      },
      "source": [
        "n_nodes = 196591 # количество узлов графа \n",
        "n_edges = 950327 # количество ребер графа\n",
        "n_check_ins = 6442890 # чекины"
      ],
      "execution_count": 0,
      "outputs": []
    },
    {
      "cell_type": "code",
      "metadata": {
        "id": "rliOgtt7qbuK",
        "colab_type": "code",
        "colab": {}
      },
      "source": [
        "# Обработка данных"
      ],
      "execution_count": 0,
      "outputs": []
    },
    {
      "cell_type": "code",
      "metadata": {
        "id": "i6vs2a7dqbuN",
        "colab_type": "code",
        "colab": {}
      },
      "source": [
        "with open('Gowalla_edges.txt', 'r') as f:\n",
        "    all_strings = f.readlines()\n",
        "edges_list = [] # список всех связей\n",
        "nodes = set() # множество всех пользователей\n",
        "s_array = [] # массив similarity (без self-similarity)\n",
        " \n",
        "for line in all_strings:\n",
        "    user_1, user_2 = line.split()\n",
        "    # заполняем список всех связей в формате \"кто дружит, с кем дружит\"\n",
        "    edges_list.append((int(user_1), int(user_2)))\n",
        "    nodes.add((int(user_1)))\n",
        "    # каждую дружбу отмечаем 1 в similarity\n",
        "    s_array.append(1)\n",
        "# дополним список связей связями \"сам к себе\"\n",
        "for node in nodes:\n",
        "    edges_list.append((node, node))\n",
        "\n",
        "s_array = np.array(s_array, dtype=np.int8)\n",
        "all_strings = None"
      ],
      "execution_count": 0,
      "outputs": []
    },
    {
      "cell_type": "code",
      "metadata": {
        "id": "mnsZSMU-qbuQ",
        "colab_type": "code",
        "colab": {}
      },
      "source": [
        "# Функции кластеризации"
      ],
      "execution_count": 0,
      "outputs": []
    },
    {
      "cell_type": "code",
      "metadata": {
        "id": "UmzB6BVcqbuT",
        "colab_type": "code",
        "colab": {}
      },
      "source": [
        "def affinity_propagation(s, edges, max_iter, self_similarity):\n",
        "    # формируем массив self-similarity\n",
        "    self_s_array = np.repeat(self_similarity, n_nodes)\n",
        "    # формируем полный массив similarity (значения self-similarity будут в конце массива)\n",
        "    similarity = np.append(s, self_s_array)\n",
        "    # инициализируем нулями массивы availability и responsibility\n",
        "    responsibility = np.repeat(0, similarity.shape[0])\n",
        "    availability = np.repeat(0, similarity.shape[0])\n",
        "    \n",
        "    for iteration in range(max_iter):\n",
        "        # обновляем responsibility\n",
        "        responsibility = refresh_responsibility(similarity, availability, edges)\n",
        "        # обновляем availability\n",
        "        availability = refresh_availability(availability, responsibility, edges)\n",
        "        print(iteration)\n",
        "    # для каждого пользователя получаем экземпляр класстера\n",
        "    exemplars = get_exemplars(availability, responsibility, edges_list)\n",
        "    # производим транзитивную свертку\n",
        "    result = transitiv_convolution(exemplars)\n",
        "    \n",
        "    return result"
      ],
      "execution_count": 0,
      "outputs": []
    },
    {
      "cell_type": "code",
      "metadata": {
        "id": "YfdicwTtqbuX",
        "colab_type": "code",
        "colab": {}
      },
      "source": [
        "def refresh_responsibility(S, A, edges):\n",
        "    max_1 = np.repeat(-np.inf, n_nodes)\n",
        "    max_2 = np.repeat(-np.inf, n_nodes)\n",
        "    max_1_user_2 = np.repeat(np.inf, n_nodes)\n",
        "    # поэлементное сложение массивов similarity и availability\n",
        "    S_A = S + A\n",
        "    # итерируемся по списку связей\n",
        "    for idx, (user_1, user_2) in enumerate(edges):\n",
        "        # для каждого пользователя найдем 2 наибольших значения суммы s(i,j) + a(i,j)\n",
        "        if max_1[user_1] < S_A[idx]:\n",
        "            max_2[user_1] = max_1[user_1]\n",
        "            max_1[user_1] = S_A[idx]\n",
        "            # запоминаем пользователя 2 с которым у пользователя 1 максимальное s(i,j) + a(i,j)\n",
        "            max_1_user_2[user_1] = user_2\n",
        "        elif max_2[user_1] < S_A[idx]:\n",
        "            max_2[user_1] = S_A[idx]\n",
        "    # обновляем  массив responsibility\n",
        "    R = S.copy()\n",
        "\n",
        "    for idx, (user_1, user_2) in enumerate(edges):\n",
        "        if max_1_user_2[user_1] == user_2:\n",
        "            R[idx] -= max_2[user_1]\n",
        "        else:\n",
        "            R[idx] -= max_1[user_1]\n",
        "    \n",
        "    return R        "
      ],
      "execution_count": 0,
      "outputs": []
    },
    {
      "cell_type": "code",
      "metadata": {
        "id": "AqjLkZU1qbua",
        "colab_type": "code",
        "colab": {}
      },
      "source": [
        "def refresh_availability(A, R, edges):\n",
        "    # сохраняем только положительные r, self-r не изменяем\n",
        "    R_copy = R.copy()\n",
        "    i = 0\n",
        "    while i < n_edges * 2:\n",
        "        if R_copy[i] < 0:\n",
        "            R_copy[i] = 0\n",
        "        i += 1\n",
        "    # для каждого пользователя складываем положительные r от других пользователей\n",
        "    positive_r = np.repeat(0, n_nodes)\n",
        "    \n",
        "    for idx, (user_1, user_2) in enumerate(edges):\n",
        "        positive_r[user_2] += R_copy[idx]\n",
        "    # обновляем availability\n",
        "    for idx, (user_1, user_2) in enumerate(edges):\n",
        "        A[idx] = positive_r[user_2] - R_copy[idx]\n",
        "    \n",
        "    i = 0\n",
        "    while i < n_edges * 2:\n",
        "        A[i] = np.min([0, A[i]])\n",
        "        i += 1\n",
        "    \n",
        "    return A\n",
        "    \n",
        "        "
      ],
      "execution_count": 0,
      "outputs": []
    },
    {
      "cell_type": "code",
      "metadata": {
        "id": "prYmavuFqbue",
        "colab_type": "code",
        "colab": {}
      },
      "source": [
        "def get_exemplars(A, R, edges):\n",
        "    temp_array = np.repeat(-np.inf, n_nodes)\n",
        "    exemplars_dict = dict()\n",
        "    # поэлементное сложение массивов availability и responsibility\n",
        "    a_plus_r = A + R\n",
        "    # для каждого пользователя 1 определяем пользователя 2 c максимальным a(i,j) + r(i,j)\n",
        "    for idx, (user_1, user_2) in enumerate(edges):\n",
        "        if a_plus_r[idx] > temp_array[user_1]:\n",
        "            temp_array[user_1] = a_plus_r[idx]\n",
        "            exemplars_dict[user_1] = user_2\n",
        "    \n",
        "    return exemplars_dict\n",
        "    "
      ],
      "execution_count": 0,
      "outputs": []
    },
    {
      "cell_type": "code",
      "metadata": {
        "id": "IQ6zCMyOqbug",
        "colab_type": "code",
        "colab": {}
      },
      "source": [
        "def transitiv_convolution(exemplars_dict):\n",
        "    for i in range(5):\n",
        "        for key in exemplars_dict.keys():\n",
        "            value = exemplars_dict[key]\n",
        "            if exemplars_dict[value] != value:\n",
        "                value_2 = exemplars_dict[value]\n",
        "                exemplars_dict[key] = value_2\n",
        "        \n",
        "    return exemplars_dict"
      ],
      "execution_count": 0,
      "outputs": []
    },
    {
      "cell_type": "code",
      "metadata": {
        "id": "_V-19iK8qbuk",
        "colab_type": "code",
        "colab": {}
      },
      "source": [
        ""
      ],
      "execution_count": 0,
      "outputs": []
    },
    {
      "cell_type": "code",
      "metadata": {
        "id": "jO9V_xSDqbun",
        "colab_type": "code",
        "outputId": "ce8c109c-4630-4271-8093-ecde779ce852",
        "colab": {
          "base_uri": "https://localhost:8080/",
          "height": 185
        }
      },
      "source": [
        "# Кластеризация графа\n",
        "my_exemplars = affinity_propagation(s_array, edges_list, 10, -1.5)"
      ],
      "execution_count": 0,
      "outputs": [
        {
          "output_type": "stream",
          "text": [
            "0\n",
            "1\n",
            "2\n",
            "3\n",
            "4\n",
            "5\n",
            "6\n",
            "7\n",
            "8\n",
            "9\n"
          ],
          "name": "stdout"
        }
      ]
    },
    {
      "cell_type": "code",
      "metadata": {
        "id": "_3SzgNwhqbus",
        "colab_type": "code",
        "colab": {}
      },
      "source": [
        "some_set = set()\n",
        "for i in my_exemplars.values():\n",
        "    some_set.add(i)"
      ],
      "execution_count": 0,
      "outputs": []
    },
    {
      "cell_type": "code",
      "metadata": {
        "id": "TL2Dx9s5qbuu",
        "colab_type": "code",
        "outputId": "cd8a62a3-b226-4d4a-f5ec-3059e1bd5f13",
        "colab": {
          "base_uri": "https://localhost:8080/",
          "height": 34
        }
      },
      "source": [
        "len(some_set)"
      ],
      "execution_count": 0,
      "outputs": [
        {
          "output_type": "execute_result",
          "data": {
            "text/plain": [
              "17955"
            ]
          },
          "metadata": {
            "tags": []
          },
          "execution_count": 14
        }
      ]
    },
    {
      "cell_type": "code",
      "metadata": {
        "id": "fsqyl1V-qbux",
        "colab_type": "code",
        "colab": {}
      },
      "source": [
        "# Визуализация размеров кластера\n",
        "cluster_size = dict()\n",
        "for exemplar in my_exemplars.values():\n",
        "    if exemplar not in cluster_size:\n",
        "        cluster_size[exemplar] = 1\n",
        "    else:\n",
        "        cluster_size[exemplar] += 1"
      ],
      "execution_count": 0,
      "outputs": []
    },
    {
      "cell_type": "code",
      "metadata": {
        "scrolled": true,
        "id": "20G6kfp_qbu2",
        "colab_type": "code",
        "outputId": "92936112-dc26-4b47-a82f-34cfc4340d0d",
        "colab": {
          "base_uri": "https://localhost:8080/",
          "height": 265
        }
      },
      "source": [
        "%matplotlib inline\n",
        "plt.hist(cluster_size.values(), bins=100)\n",
        "plt.show()"
      ],
      "execution_count": 0,
      "outputs": [
        {
          "output_type": "display_data",
          "data": {
            "image/png": "[encoded data removed]",
            "text/plain": [
              "<Figure size 432x288 with 1 Axes>"
            ]
          },
          "metadata": {
            "tags": []
          }
        }
      ]
    },
    {
      "cell_type": "code",
      "metadata": {
        "id": "kU_3PakHqbu6",
        "colab_type": "code",
        "colab": {}
      },
      "source": [
        "# Большая часть значений находится ближе к 0"
      ],
      "execution_count": 0,
      "outputs": []
    },
    {
      "cell_type": "code",
      "metadata": {
        "id": "_a0At2Tcqbu_",
        "colab_type": "code",
        "outputId": "bca77e9e-9657-46c1-8363-4004924ffdbb",
        "colab": {
          "base_uri": "https://localhost:8080/",
          "height": 34
        }
      },
      "source": [
        "max(cluster_size.values()) # Размер самого большого кластера"
      ],
      "execution_count": 0,
      "outputs": [
        {
          "output_type": "execute_result",
          "data": {
            "text/plain": [
              "16100"
            ]
          },
          "metadata": {
            "tags": []
          },
          "execution_count": 18
        }
      ]
    },
    {
      "cell_type": "code",
      "metadata": {
        "id": "ETTm4JAmqbvC",
        "colab_type": "code",
        "outputId": "1211d0b9-3ba6-4fd2-fbe6-5f3156ee19f1",
        "colab": {
          "base_uri": "https://localhost:8080/",
          "height": 34
        }
      },
      "source": [
        "min(cluster_size.values()) # Размер самого маленького кластера"
      ],
      "execution_count": 0,
      "outputs": [
        {
          "output_type": "execute_result",
          "data": {
            "text/plain": [
              "1"
            ]
          },
          "metadata": {
            "tags": []
          },
          "execution_count": 19
        }
      ]
    },
    {
      "cell_type": "code",
      "metadata": {
        "id": "va0fm_hjqbvE",
        "colab_type": "code",
        "colab": {}
      },
      "source": [
        ""
      ],
      "execution_count": 0,
      "outputs": []
    },
    {
      "cell_type": "code",
      "metadata": {
        "id": "1TPhrMgEqbvI",
        "colab_type": "code",
        "colab": {}
      },
      "source": [
        "# Визуализируем наиболее распространенные размеры кластеров"
      ],
      "execution_count": 0,
      "outputs": []
    },
    {
      "cell_type": "code",
      "metadata": {
        "id": "AUq5yDAaqbvK",
        "colab_type": "code",
        "outputId": "7650ea86-3c52-4948-c62f-7fc4cba9fedb",
        "colab": {
          "base_uri": "https://localhost:8080/",
          "height": 265
        }
      },
      "source": [
        "plt.hist(cluster_size.values(), bins=100, range=(0, 100))\n",
        "plt.show()"
      ],
      "execution_count": 0,
      "outputs": [
        {
          "output_type": "display_data",
          "data": {
            "image/png": "[encoded data removed]",
            "text/plain": [
              "<Figure size 432x288 with 1 Axes>"
            ]
          },
          "metadata": {
            "tags": []
          }
        }
      ]
    },
    {
      "cell_type": "code",
      "metadata": {
        "id": "7x2oe2Q9qbvN",
        "colab_type": "code",
        "colab": {}
      },
      "source": [
        ""
      ],
      "execution_count": 0,
      "outputs": []
    },
    {
      "cell_type": "code",
      "metadata": {
        "id": "_b6qRO95tlYJ",
        "colab_type": "code",
        "colab": {}
      },
      "source": [
        "# Обработка данных по чекинам"
      ],
      "execution_count": 0,
      "outputs": []
    },
    {
      "cell_type": "code",
      "metadata": {
        "id": "1lTik1DRtpiG",
        "colab_type": "code",
        "colab": {}
      },
      "source": [
        "checkins = []\n",
        "\n",
        "with open('Gowalla_totalCheckins.txt', 'r') as f:\n",
        "    for line in f.readlines():\n",
        "        line = line[:-1]\n",
        "        line = line.split('\\t')\n",
        "        user, loc = int(line[0]), int(line[-1])\n",
        "        checkins.append((user, loc))"
      ],
      "execution_count": 0,
      "outputs": []
    },
    {
      "cell_type": "code",
      "metadata": {
        "id": "AWe16HcTt-Of",
        "colab_type": "code",
        "colab": {}
      },
      "source": [
        "checkins_by_user = defaultdict(list)\n",
        "\n",
        "for (user, loc) in checkins:\n",
        "    checkins_by_user[user].append(loc)"
      ],
      "execution_count": 0,
      "outputs": []
    },
    {
      "cell_type": "code",
      "metadata": {
        "id": "gvol4pBJuPuX",
        "colab_type": "code",
        "outputId": "72bf6a6c-ea6d-42a9-f375-4d8917a94031",
        "colab": {
          "base_uri": "https://localhost:8080/",
          "height": 34
        }
      },
      "source": [
        "np.random.seed(0)\n",
        "\n",
        "users = list(set(checkins_by_user.keys()))\n",
        "users = np.array(users)\n",
        "np.random.shuffle(users)\n",
        "\n",
        "train_test_split = 0.1\n",
        "split_ind = int(train_test_split*len(users))\n",
        "\n",
        "users_train, users_test = users[split_ind:], users[:split_ind]\n",
        "print(\"Users in train set: %d, users in test set: %d\" % (len(users_train), len(users_test)))"
      ],
      "execution_count": 0,
      "outputs": [
        {
          "output_type": "stream",
          "text": [
            "Users in train set: 96383, users in test set: 10709\n"
          ],
          "name": "stdout"
        }
      ]
    },
    {
      "cell_type": "code",
      "metadata": {
        "id": "8Og-TocmuZTQ",
        "colab_type": "code",
        "colab": {}
      },
      "source": [
        "locations = np.array(list(set([x[1] for x in checkins])))\n",
        "n_locations = len(locations)\n",
        "\n",
        "loc_to_ind = {x:i for i,x in enumerate(locations)}"
      ],
      "execution_count": 0,
      "outputs": []
    },
    {
      "cell_type": "code",
      "metadata": {
        "id": "S13GstPDuesI",
        "colab_type": "code",
        "colab": {}
      },
      "source": [
        "# baseline классификатор"
      ],
      "execution_count": 0,
      "outputs": []
    },
    {
      "cell_type": "code",
      "metadata": {
        "id": "NzA68ivwuevA",
        "colab_type": "code",
        "outputId": "1ec7c2f2-bbdd-47e3-e6a3-151a41747ae7",
        "colab": {
          "base_uri": "https://localhost:8080/",
          "height": 50
        }
      },
      "source": [
        "k = 10\n",
        "\n",
        "# train\n",
        "checkin_count = np.zeros_like(locations)\n",
        "for user in users_train:\n",
        "    for loc in checkins_by_user[user]:\n",
        "        checkin_count[loc_to_ind[loc]] += 1\n",
        "\n",
        "topk_ind = np.argpartition(checkin_count, -k)[-k:]\n",
        "topk_ind = topk_ind[np.argsort(checkin_count[topk_ind])]\n",
        "\n",
        "topk_recommended_locations = locations[topk_ind[::-1]]\n",
        "print(\"Top-10 locations: \", topk_recommended_locations)\n",
        "print(\"Check-ins count: \", checkin_count[topk_ind[::-1]])"
      ],
      "execution_count": 0,
      "outputs": [
        {
          "output_type": "stream",
          "text": [
            "Top-10 locations:  [55033 19542  9410 10259 58725 14470 10190  9246 23256  9241]\n",
            "Check-ins count:  [5154 5003 4234 3775 3146 3093 3076 3045 3025 2992]\n"
          ],
          "name": "stdout"
        }
      ]
    },
    {
      "cell_type": "code",
      "metadata": {
        "id": "7ggyreSwui5B",
        "colab_type": "code",
        "outputId": "0c84b4b0-b684-4c7e-b60c-324fcafc1616",
        "colab": {
          "base_uri": "https://localhost:8080/",
          "height": 34
        }
      },
      "source": [
        "# test\n",
        "precision_at_k = 0\n",
        "\n",
        "for user in users_test:\n",
        "    relevant = 0\n",
        "    for loc in topk_recommended_locations:\n",
        "        if loc in checkins_by_user[user]:\n",
        "            relevant += 1\n",
        "    precision_at_k += relevant/k\n",
        "\n",
        "precision_at_k /= len(users_test)\n",
        "print(\"Mean precision@10 = \", precision_at_k)"
      ],
      "execution_count": 0,
      "outputs": [
        {
          "output_type": "stream",
          "text": [
            "Mean precision@10 =  0.01757400317489932\n"
          ],
          "name": "stdout"
        }
      ]
    },
    {
      "cell_type": "code",
      "metadata": {
        "id": "NhkBFRBPqbv5",
        "colab_type": "code",
        "colab": {}
      },
      "source": [
        "locations_by_clusters = dict()\n",
        "for (user, location) in checkins:\n",
        "    if user in users_train:\n",
        "        exemplar = my_exemplars[user]\n",
        "        \n",
        "        if exemplar not in locations_by_clusters.keys():\n",
        "            locations_by_clusters[exemplar] = dict()\n",
        "            \n",
        "        else:\n",
        "            if location not in locations_by_clusters[exemplar].keys():\n",
        "                locations_by_clusters[exemplar][location] = 1\n",
        "            else:\n",
        "                locations_by_clusters[exemplar][location] += 1"
      ],
      "execution_count": 0,
      "outputs": []
    },
    {
      "cell_type": "code",
      "metadata": {
        "id": "2OqKeQrWqbv7",
        "colab_type": "code",
        "colab": {}
      },
      "source": [
        "# Отсортируем локации по убыванию количества чекинов и определим топ-10 локаций для каждого кластера.\n",
        "top_k_locations_for_clusters = dict()\n",
        "for exemplar in locations_by_clusters:\n",
        "    locations_by_clusters[exemplar] = [[k, v] for k, v in sorted(locations_by_clusters[exemplar].items(), key=lambda item: item[1], reverse=True)]\n",
        "for exemplar in locations_by_clusters:\n",
        "    top_k_locations_for_clusters[exemplar] = [location[0] for location in locations_by_clusters[exemplar][:k]]"
      ],
      "execution_count": 0,
      "outputs": []
    },
    {
      "cell_type": "code",
      "metadata": {
        "id": "wQmq5Qybqbv-",
        "colab_type": "code",
        "outputId": "141cfdd1-ba7d-4897-986a-42cf2532cfc6",
        "colab": {
          "base_uri": "https://localhost:8080/",
          "height": 34
        }
      },
      "source": [
        "top_k_locations_for_clusters[0]"
      ],
      "execution_count": 0,
      "outputs": [
        {
          "output_type": "execute_result",
          "data": {
            "text/plain": [
              "[9410, 19542, 9246, 26919, 420315, 9241, 10259, 33793, 21714, 9066]"
            ]
          },
          "metadata": {
            "tags": []
          },
          "execution_count": 34
        }
      ]
    },
    {
      "cell_type": "code",
      "metadata": {
        "id": "Z6y4_vKCqbwB",
        "colab_type": "code",
        "colab": {}
      },
      "source": [
        "# Рассчёт precision@10 с применением кластеризации\n",
        "hits = 0\n",
        "for (user, location) in checkins:\n",
        "    if user in  users_test:\n",
        "        exemplar = my_exemplars[user]\n",
        "        if exemplar in top_k_locations_for_clusters and location in top_k_locations_for_clusters[exemplar]:\n",
        "            hits += 1\n",
        "precision_10 = hits / k / len(users_test)"
      ],
      "execution_count": 0,
      "outputs": []
    },
    {
      "cell_type": "code",
      "metadata": {
        "id": "rSGS8UnNqbwE",
        "colab_type": "code",
        "outputId": "02ff95d3-aeef-482f-9abc-8f7c0f899895",
        "colab": {
          "base_uri": "https://localhost:8080/",
          "height": 34
        }
      },
      "source": [
        "precision_10"
      ],
      "execution_count": 0,
      "outputs": [
        {
          "output_type": "execute_result",
          "data": {
            "text/plain": [
              "0.12764964048930805"
            ]
          },
          "metadata": {
            "tags": []
          },
          "execution_count": 39
        }
      ]
    },
    {
      "cell_type": "markdown",
      "metadata": {
        "id": "EHX48mGKqbwI",
        "colab_type": "text"
      },
      "source": [
        "Результаты:\n",
        "self-similarity: -1.5\n",
        "итераций: 10\n",
        "количество кластеров: 17955\n",
        "precision@10 для baseline: 0.13\n",
        "precision@10 для кластеров: 0.44"
      ]
    }
  ]
}